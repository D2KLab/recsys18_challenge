{
 "cells": [
  {
   "cell_type": "code",
   "execution_count": 7,
   "metadata": {
    "collapsed": true
   },
   "outputs": [],
   "source": [
    "import pandas as pd\n",
    "import html\n",
    "from functools import reduce\n",
    "import re\n",
    "import numpy as np\n",
    "from nltk import word_tokenize"
   ]
  },
  {
   "cell_type": "code",
   "execution_count": 9,
   "metadata": {},
   "outputs": [
    {
     "data": {
      "text/html": [
       "<div>\n",
       "<style>\n",
       "    .dataframe thead tr:only-child th {\n",
       "        text-align: right;\n",
       "    }\n",
       "\n",
       "    .dataframe thead th {\n",
       "        text-align: left;\n",
       "    }\n",
       "\n",
       "    .dataframe tbody tr th {\n",
       "        vertical-align: top;\n",
       "    }\n",
       "</style>\n",
       "<table border=\"1\" class=\"dataframe\">\n",
       "  <thead>\n",
       "    <tr style=\"text-align: right;\">\n",
       "      <th></th>\n",
       "      <th>spotify_track_uri</th>\n",
       "      <th>artist</th>\n",
       "      <th>title</th>\n",
       "      <th>urlSong</th>\n",
       "      <th>lyrics</th>\n",
       "    </tr>\n",
       "  </thead>\n",
       "  <tbody>\n",
       "    <tr>\n",
       "      <th>0</th>\n",
       "      <td>6Z32g3TxhI9KOEDxkF5whx</td>\n",
       "      <td>A Broken Silence</td>\n",
       "      <td>What Are We Waiting For (Life Is Wonderful)</td>\n",
       "      <td>http://lyrics.wikia.com/A_Broken_Silence:What_...</td>\n",
       "      <td>(Cactus)&lt;br&gt;What are we waiting for? It&amp;apos;s...</td>\n",
       "    </tr>\n",
       "    <tr>\n",
       "      <th>1</th>\n",
       "      <td>1fTNpl2mxqHVlLqRNbyDhR</td>\n",
       "      <td>A Day To Remember</td>\n",
       "      <td>I'm Made of Wax, Larry, What Are You Made Of?</td>\n",
       "      <td>http://lyrics.wikia.com/A_Day_To_Remember:I%27...</td>\n",
       "      <td>Don&amp;apos;t blink, they won&amp;apos;t even miss yo...</td>\n",
       "    </tr>\n",
       "    <tr>\n",
       "      <th>2</th>\n",
       "      <td>7BQk0o7TxM3WRFTPCuA4e4</td>\n",
       "      <td>A Fine Frenzy</td>\n",
       "      <td>Almost Lover (Live)</td>\n",
       "      <td>http://lyrics.wikia.com/A_Fine_Frenzy:Almost_L...</td>\n",
       "      <td>Your fingertips across my skin&lt;br&gt;The palm tre...</td>\n",
       "    </tr>\n",
       "    <tr>\n",
       "      <th>3</th>\n",
       "      <td>33VihH9UNQMxiQS4wcPIKL</td>\n",
       "      <td>A Flock Of Seagulls</td>\n",
       "      <td>I Ran</td>\n",
       "      <td>http://lyrics.wikia.com/A_Flock_Of_Seagulls:I_...</td>\n",
       "      <td>I walk along the avenue&lt;br&gt;I never thought I&amp;a...</td>\n",
       "    </tr>\n",
       "    <tr>\n",
       "      <th>4</th>\n",
       "      <td>5VNW7zhvsqo5UD0kUiRTYr</td>\n",
       "      <td>A Flock Of Seagulls</td>\n",
       "      <td>I Ran (So Far Away) (Re-Recorded / Remastered)</td>\n",
       "      <td>http://lyrics.wikia.com/A_Flock_Of_Seagulls:I_...</td>\n",
       "      <td>I walk along the avenue&lt;br&gt;I never thought I&amp;a...</td>\n",
       "    </tr>\n",
       "  </tbody>\n",
       "</table>\n",
       "</div>"
      ],
      "text/plain": [
       "        spotify_track_uri               artist  \\\n",
       "0  6Z32g3TxhI9KOEDxkF5whx     A Broken Silence   \n",
       "1  1fTNpl2mxqHVlLqRNbyDhR    A Day To Remember   \n",
       "2  7BQk0o7TxM3WRFTPCuA4e4        A Fine Frenzy   \n",
       "3  33VihH9UNQMxiQS4wcPIKL  A Flock Of Seagulls   \n",
       "4  5VNW7zhvsqo5UD0kUiRTYr  A Flock Of Seagulls   \n",
       "\n",
       "                                            title  \\\n",
       "0     What Are We Waiting For (Life Is Wonderful)   \n",
       "1   I'm Made of Wax, Larry, What Are You Made Of?   \n",
       "2                             Almost Lover (Live)   \n",
       "3                                           I Ran   \n",
       "4  I Ran (So Far Away) (Re-Recorded / Remastered)   \n",
       "\n",
       "                                             urlSong  \\\n",
       "0  http://lyrics.wikia.com/A_Broken_Silence:What_...   \n",
       "1  http://lyrics.wikia.com/A_Day_To_Remember:I%27...   \n",
       "2  http://lyrics.wikia.com/A_Fine_Frenzy:Almost_L...   \n",
       "3  http://lyrics.wikia.com/A_Flock_Of_Seagulls:I_...   \n",
       "4  http://lyrics.wikia.com/A_Flock_Of_Seagulls:I_...   \n",
       "\n",
       "                                              lyrics  \n",
       "0  (Cactus)<br>What are we waiting for? It&apos;s...  \n",
       "1  Don&apos;t blink, they won&apos;t even miss yo...  \n",
       "2  Your fingertips across my skin<br>The palm tre...  \n",
       "3  I walk along the avenue<br>I never thought I&a...  \n",
       "4  I walk along the avenue<br>I never thought I&a...  "
      ]
     },
     "execution_count": 9,
     "metadata": {},
     "output_type": "execute_result"
    }
   ],
   "source": [
    "mpd_with_lyrics = pd.read_csv('resources/mpd to wasabi alignment/mpd_wasabi_aligned.csv', sep='\\t', encoding='utf8')\n",
    "mpd_with_lyrics = mpd_with_lyrics.drop(['Unnamed: 0'], axis=1)\n",
    "mpd_with_lyrics.head()"
   ]
  },
  {
   "cell_type": "code",
   "execution_count": 10,
   "metadata": {},
   "outputs": [
    {
     "name": "stdout",
     "output_type": "stream",
     "text": [
      "aligned indices    : 416121\n",
      "unique Spotify URIs: 416121\n",
      "unique lyrics      : 358334\n"
     ]
    }
   ],
   "source": [
    "print('aligned indices    :', len(mpd_with_lyrics))\n",
    "print('unique Spotify URIs:', len(set(mpd_with_lyrics['spotify_track_uri'])))\n",
    "print('unique lyrics      :', len(set(mpd_with_lyrics['lyrics'])))"
   ]
  },
  {
   "cell_type": "code",
   "execution_count": 11,
   "metadata": {},
   "outputs": [
    {
     "data": {
      "text/plain": [
       "0    (Cactus)<br>What are we waiting for? It&apos;s...\n",
       "1    Don&apos;t blink, they won&apos;t even miss yo...\n",
       "2    Your fingertips across my skin<br>The palm tre...\n",
       "3    I walk along the avenue<br>I never thought I&a...\n",
       "4    I walk along the avenue<br>I never thought I&a...\n",
       "Name: lyrics, dtype: object"
      ]
     },
     "execution_count": 11,
     "metadata": {},
     "output_type": "execute_result"
    }
   ],
   "source": [
    "all_lyrics = mpd_with_lyrics.head()['lyrics']\n",
    "all_lyrics"
   ]
  },
  {
   "cell_type": "code",
   "execution_count": 12,
   "metadata": {},
   "outputs": [],
   "source": [
    "# parse lyrics to segment-line-structure, assuming lines are separated by line_border_indicator and\n",
    "# segments are separated by multiple consecutive line_border_indicator occurences\n",
    "# assuming line_border_indicator is <br> (standard in lyrics.wikia.com)\n",
    "def tree_structure(text):\n",
    "    #normalize segment border encoding\n",
    "    segment_border_encoder = '<segmentborder>'\n",
    "    line_border_encoder = '<lineborder>'\n",
    "    tree_string = re.sub('(( )*<br>( )*){2,}', segment_border_encoder, text)\n",
    "    tree_string = re.sub('( )*<br>( )*', line_border_encoder, tree_string)\n",
    "    #parse tree_string\n",
    "    segment_structure = tree_string.split(segment_border_encoder)\n",
    "    tree_structure = list(map(lambda segment: segment.split(line_border_encoder), segment_structure))\n",
    "    return tree_structure\n",
    "\n",
    "#flattened tree structure, does not differentiate between segment and line border\n",
    "def line_structure(lyric_tree):\n",
    "    return reduce(lambda x, segment: x + segment, lyric_tree, [])\n",
    "\n",
    "# flattened line_structure\n",
    "def token_structure(lyric_tree, tokenizer=word_tokenize):\n",
    "    return reduce(lambda x, line: extend_with_return(x, tokenizer(line)), line_structure(lyric_tree), [])\n",
    "\n",
    "def extend_with_return(some_list, other_list):\n",
    "    some_list.extend(other_list)\n",
    "    return some_list\n",
    "\n",
    "# normalizations we want to apply to all lyrics go here\n",
    "def normalize_lyric(lyric):\n",
    "    lyric = html.unescape(lyric)\n",
    "    lyric = lyric.lower()\n",
    "    return lyric\n",
    "\n",
    "# Reduce a list of numbers to single number / feature (cf. np.average, np.std, ...)\n",
    "def list_span(some_list):\n",
    "    return min(some_list) / max(some_list)"
   ]
  },
  {
   "cell_type": "code",
   "execution_count": 13,
   "metadata": {
    "collapsed": true
   },
   "outputs": [],
   "source": [
    "######################################\n",
    "########Stylometric features##########\n",
    "######################################\n",
    "\n",
    "def type_token_ratio(lyric_tokens):\n",
    "    return len(set(lyric_tokens)) / len(lyric_tokens)\n",
    "\n",
    "def line_lengths_in_chars(lyric_lines):\n",
    "    return list(map(len, lyric_lines))\n",
    "\n",
    "def line_lengths_in_tokens(lyric_lines):\n",
    "    return list(map(lambda line: len(word_tokenize(line)), lyric_lines))"
   ]
  },
  {
   "cell_type": "code",
   "execution_count": 14,
   "metadata": {
    "collapsed": true
   },
   "outputs": [],
   "source": [
    "##################################\n",
    "########Segment features##########\n",
    "##################################\n",
    "\n",
    "#The indices of lines that end a segment\n",
    "def segment_borders(lyric_tree):\n",
    "    segment_lengths = reduce(lambda x, block: x + [len(block)], lyric_tree, [])\n",
    "    segment_indices = []\n",
    "    running_sum = -1\n",
    "    for i in range(len(segment_lengths)):\n",
    "        running_sum += segment_lengths[i]\n",
    "        segment_indices.append(running_sum)\n",
    "    return segment_indices[:-1]\n",
    "\n",
    "# lengths of the segments\n",
    "def segment_lengths(lyric_tree):\n",
    "    return reduce(lambda x, block: x + [len(block)], lyric_tree, [])"
   ]
  },
  {
   "cell_type": "code",
   "execution_count": 49,
   "metadata": {
    "collapsed": true
   },
   "outputs": [],
   "source": [
    "def representations_from(lyric):\n",
    "    \"\"\"Compute different representations of lyric: tree (with paragraphs), lines, tokens\"\"\"\n",
    "    lyric_tree = tree_structure(lyric)\n",
    "    lyric_lines = line_structure(lyric_tree)\n",
    "    lyric_tokens = token_structure(lyric_tree)\n",
    "    return lyric_tree, lyric_lines, lyric_tokens\n",
    "\n",
    "def feat_vect_from(feature_list):\n",
    "    \"\"\"Assuming a list of features of the lyric\"\"\"\n",
    "    feat_vect = []\n",
    "    feat_vect.append(np.median(feature_list))\n",
    "    feat_vect.append(np.std(feature_list))\n",
    "    feat_vect.append(list_span(feature_list))\n",
    "    return feat_vect\n",
    "\n",
    "def extend_feat_vect(feat_vect, feature_list):\n",
    "    feat_vect.extend(feat_vect_from(feature_list))\n",
    "    return feat_vect\n",
    "\n",
    "def feature_vector_from(lyric):\n",
    "    lyric_tree, lyric_lines, lyric_tokens = representations_from(lyric)\n",
    "    \n",
    "    # lump everything in a single feature vector\n",
    "    feat_vect = []\n",
    "    \n",
    "    # segmentation features\n",
    "    feat_vect = extend_feat_vect(feat_vect, segment_lengths(lyric_tree))\n",
    "    \n",
    "    # stylometric features\n",
    "    feat_vect = extend_feat_vect(feat_vect, line_lengths_in_chars(lyric_lines))\n",
    "    feat_vect = extend_feat_vect(feat_vect, line_lengths_in_tokens(lyric_lines))\n",
    "    \n",
    "    feat_vect.append(len(ln_lengths_chars))\n",
    "    feat_vect.append(type_token_ratio(lyric_tokens))\n",
    "    return feat_vect\n",
    "\n",
    "def feature_vectors_from(many_lyrics: list) -> np.ndarray:\n",
    "    many_count = len(many_lyrics)\n",
    "    first_feat_vect = feature_vector_from(many_lyrics[0])\n",
    "    feat_vects = np.empty((many_count, len(first_feat_vect)), dtype=object)\n",
    "    feat_vects[0] = first_feat_vect\n",
    "    for i in range(1, many_count):\n",
    "        feat_vects[i] = feature_vector_from(many_lyrics[i])\n",
    "    return feat_vects\n",
    "\n",
    "def min_max_scaler(elems: list) -> list:\n",
    "    min_elem = min(elems)\n",
    "    max_elem = max(elems)\n",
    "    min_max_range = max_elem - min_elem\n",
    "    if not min_max_range:\n",
    "        min_max_range = 1\n",
    "    return list(map(lambda x: (x - min_elem) / min_max_range, elems))\n",
    "\n",
    "def apply_to_columns(f, matrix: np.ndarray) -> np.ndarray:\n",
    "    \"\"\"Apply a function f to each column of the matrix\"\"\"\n",
    "    f_matrix = np.empty((matrix.shape[0], matrix.shape[1]))\n",
    "    for j in range(matrix.shape[1]):\n",
    "        f_matrix[:, j] = f(matrix[:, j])\n",
    "    return f_matrix"
   ]
  },
  {
   "cell_type": "code",
   "execution_count": 56,
   "metadata": {},
   "outputs": [
    {
     "name": "stdout",
     "output_type": "stream",
     "text": [
      "[[4.0 0.44221663871405326 0.6 47.0 18.434890911053575 0.11594202898550725\n",
      "  9.0 4.6322427255744563 0.125 28 0.3167808219178082]\n",
      " [4.0 1.8652854850741754 0.14285714285714285 29.0 14.56410855583545\n",
      "  0.12698412698412698 9.5 4.621622396850757 0.16666666666666666 28\n",
      "  0.2045060658578856]\n",
      " [3.0 2.6381811916545841 0.25 29.0 9.1605092956426581 0.13636363636363635\n",
      "  6.5 3.1868190993876988 0.07142857142857142 28 0.3495702005730659]\n",
      " [3.0 1.7728105208558367 0.3333333333333333 30.0 7.5284325007512249\n",
      "  0.4222222222222222 8.0 2.5314350209527641 0.3076923076923077 28\n",
      "  0.37272727272727274]\n",
      " [3.0 1.7728105208558367 0.3333333333333333 30.0 7.5284325007512249\n",
      "  0.4222222222222222 8.0 2.5314350209527641 0.3076923076923077 28\n",
      "  0.37272727272727274]]\n",
      "\n"
     ]
    },
    {
     "data": {
      "text/plain": [
       "array([[ 1.        ,  0.        ,  1.        ,  1.        ,  1.        ,\n",
       "         0.        ,  0.83333333,  1.        ,  0.22674419,  0.        ,\n",
       "         0.66742332],\n",
       "       [ 1.        ,  0.64803817,  0.        ,  0.        ,  0.64509264,\n",
       "         0.03605228,  1.        ,  0.99494465,  0.40310078,  0.        ,\n",
       "         0.        ],\n",
       "       [ 0.        ,  1.        ,  0.234375  ,  0.        ,  0.14964315,\n",
       "         0.06667623,  0.        ,  0.31196767,  0.        ,  0.        ,\n",
       "         0.86234154],\n",
       "       [ 0.        ,  0.60592685,  0.41666667,  0.05555556,  0.        ,\n",
       "         1.        ,  0.5       ,  0.        ,  1.        ,  0.        ,\n",
       "         1.        ],\n",
       "       [ 0.        ,  0.60592685,  0.41666667,  0.05555556,  0.        ,\n",
       "         1.        ,  0.5       ,  0.        ,  1.        ,  0.        ,\n",
       "         1.        ]])"
      ]
     },
     "execution_count": 56,
     "metadata": {},
     "output_type": "execute_result"
    }
   ],
   "source": [
    "matrix = feature_vectors_from(all_lyrics)\n",
    "print(matrix)\n",
    "print()\n",
    "\n",
    "scaled_matrix = apply_to_columns(min_max_scaler, matrix)\n",
    "scaled_matrix"
   ]
  }
 ],
 "metadata": {
  "kernelspec": {
   "display_name": "Python 3",
   "language": "python",
   "name": "python3"
  },
  "language_info": {
   "codemirror_mode": {
    "name": "ipython",
    "version": 3
   },
   "file_extension": ".py",
   "mimetype": "text/x-python",
   "name": "python",
   "nbconvert_exporter": "python",
   "pygments_lexer": "ipython3",
   "version": "3.6.2"
  }
 },
 "nbformat": 4,
 "nbformat_minor": 2
}
